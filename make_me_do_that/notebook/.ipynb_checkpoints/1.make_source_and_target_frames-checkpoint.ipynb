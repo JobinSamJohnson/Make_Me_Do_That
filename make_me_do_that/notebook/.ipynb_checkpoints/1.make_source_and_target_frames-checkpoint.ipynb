{
 "cells": [
  {
   "cell_type": "code",
   "execution_count": null,
   "metadata": {},
   "outputs": [],
   "source": [
    "import cv2\n",
    "from pathlib import Path\n",
    "import os\n",
    "import sys\n",
    "import torch\n",
    "import numpy as np\n",
    "import matplotlib.pyplot as plt\n",
    "from tqdm import tqdm\n",
    "\n",
    "%matplotlib inline"
   ]
  },
  {
   "cell_type": "markdown",
   "metadata": {},
   "source": [
    "## Source Frames"
   ]
  },
  {
   "cell_type": "code",
   "execution_count": null,
   "metadata": {},
   "outputs": [],
   "source": [
    "save_dir = Path('../data/source/')\n",
    "save_dir.mkdir(exist_ok=True)\n",
    "\n",
    "img_dir = save_dir.joinpath('images')\n",
    "img_dir.mkdir(exist_ok=True)"
   ]
  },
  {
   "cell_type": "code",
   "execution_count": null,
   "metadata": {},
   "outputs": [],
   "source": [
    "cap = cv2.VideoCapture(str(save_dir.joinpath('Bruno.mp4')))\n",
    "i = 0\n",
    "while (cap.isOpened()):\n",
    "    flag, frame = cap.read()\n",
    "    if flag == False or i >= 10:\n",
    "        break\n",
    "    cv2.imwrite(str(img_dir.joinpath('{:05}.png'.format(i))), frame)\n",
    "    print('Has generated %d pictures'%(i+1))\n",
    "    i++"
   ]
  },
  {
   "cell_type": "code",
   "execution_count": null,
   "metadata": {},
   "outputs": [],
   "source": [
    "'''Pose estimation (OpenPose)'''\n",
    "openpose_dir = Path('../src/PoseEstimation/')\n",
    "\n",
    "sys.path.append(str(openpose_dir))\n",
    "sys.path.append('../src/utils')\n",
    "\n",
    "# openpose\n",
    "from evaluate.coco_eval import get_multiplier, get_outputs\n",
    "from network.rtpose_vgg import get_model\n",
    "\n",
    "# utils\n",
    "from openpose_utils import remove_noise, get_pose\n",
    "\n",
    "weight_name = '../src/PoseEstimation/network/weight/pose_model.pth'\n",
    "\n",
    "model = get_model('vgg19')\n",
    "model.load_state_dict(torch.load(weight_name))\n",
    "model = torch.nn.DataParallel(model)\n",
    "model.float()\n",
    "model.eval()"
   ]
  },
  {
   "cell_type": "code",
   "execution_count": null,
   "metadata": {},
   "outputs": [],
   "source": [
    "'''make label images for pix2pix'''\n",
    "test_img_dir = save_dir.joinpath('test_img')\n",
    "test_img_dir.mkdir(exist_ok=True)\n",
    "test_label_dir = save_dir.joinpath('test_label_ori')\n",
    "test_label_dir.mkdir(exist_ok=True)\n",
    "test_head_dir = save_dir.joinpath('test_head_ori')\n",
    "test_head_dir.mkdir(exist_ok=True)"
   ]
  },
  {
   "cell_type": "code",
   "execution_count": null,
   "metadata": {},
   "outputs": [],
   "source": [
    "pose_cords = []\n",
    "for idx in tqdm(range(len(os.listdir(str(img_dir))))):\n",
    "    img_path = img_dir.joinpath('{:05}.png'.format(idx))\n",
    "    img = cv2.imread(str(img_path))\n",
    "    shape_dst = np.min(img.shape[:2])\n",
    "    oh = (img.shape[0] - shape_dst) // 2\n",
    "    ow = (img.shape[1] - shape_dst) // 2\n",
    "\n",
    "    img = img[oh:oh + shape_dst, ow:ow + shape_dst]\n",
    "    img = cv2.resize(img, (512, 512))\n",
    "    multiplier = get_multiplier(img)\n",
    "    with torch.no_grad():\n",
    "        paf, heatmap = get_outputs(multiplier, img, model, 'rtpose')\n",
    "    r_heatmap = np.array([remove_noise(ht)\n",
    "                          for ht in heatmap.transpose(2, 0, 1)[:-1]]) \\\n",
    "        .transpose(1, 2, 0)\n",
    "    heatmap[:, :, :-1] = r_heatmap\n",
    "    param = {'thre1': 0.1, 'thre2': 0.05, 'thre3': 0.5}\n",
    "    label, cord = get_pose(param, heatmap, paf)\n",
    "    index = 13\n",
    "    crop_size = 25\n",
    "    try:\n",
    "        head_cord = cord[index]\n",
    "    except:\n",
    "        head_cord = pose_cords[-1] # if there is not head point in picture, use last frame\n",
    "\n",
    "    pose_cords.append(head_cord)\n",
    "    head = img[int(head_cord[1] - crop_size): int(head_cord[1] + crop_size),\n",
    "           int(head_cord[0] - crop_size): int(head_cord[0] + crop_size), :]\n",
    "    plt.imshow(head)\n",
    "    plt.savefig(str(test_head_dir.joinpath('pose_{}.jpg'.format(idx))))\n",
    "    plt.clf()\n",
    "    cv2.imwrite(str(test_img_dir.joinpath('{:05}.png'.format(idx))), img)\n",
    "    cv2.imwrite(str(test_label_dir.joinpath('{:05}.png'.format(idx))), label)\n",
    "pose_cords_arr = np.array(pose_cords, dtype=np.int)\n",
    "np.save(str((save_dir.joinpath('pose_source.npy'))), pose_cords_arr)"
   ]
  },
  {
   "cell_type": "markdown",
   "metadata": {},
   "source": [
    "## Target Frames"
   ]
  },
  {
   "cell_type": "code",
   "execution_count": null,
   "metadata": {},
   "outputs": [],
   "source": [
    "save_dir = Path('../data/target/')\n",
    "save_dir.mkdir(exist_ok=True)\n",
    "\n",
    "img_dir = save_dir.joinpath('images')\n",
    "img_dir.mkdir(exist_ok=True)"
   ]
  },
  {
   "cell_type": "code",
   "execution_count": null,
   "metadata": {},
   "outputs": [],
   "source": [
    "cap = cv2.VideoCapture(str(save_dir.joinpath('David.mp4')))\n",
    "i = 0\n",
    "while (cap.isOpened()):\n",
    "    flag, frame = cap.read()\n",
    "    if flag == False or i >= 10:\n",
    "        break\n",
    "    frame=np.rot90(frame,3)\n",
    "    cv2.imwrite(str(img_dir.joinpath('{:05}.png'.format(i))), frame)\n",
    "    print('Has generated %d pictures'%(i+1))\n",
    "    i++"
   ]
  },
  {
   "cell_type": "code",
   "execution_count": null,
   "metadata": {},
   "outputs": [],
   "source": [
    "'''make label images for pix2pix'''\n",
    "train_dir = save_dir.joinpath('train')\n",
    "train_dir.mkdir(exist_ok=True)\n",
    "\n",
    "train_img_dir = train_dir.joinpath('train_img')\n",
    "train_img_dir.mkdir(exist_ok=True)\n",
    "train_label_dir = train_dir.joinpath('train_label')\n",
    "train_label_dir.mkdir(exist_ok=True)\n",
    "train_head_dir = train_dir.joinpath('head_img')\n",
    "train_head_dir.mkdir(exist_ok=True)"
   ]
  },
  {
   "cell_type": "code",
   "execution_count": null,
   "metadata": {},
   "outputs": [],
   "source": [
    "pose_cords = []\n",
    "for idx in tqdm(range(len(os.listdir(str(img_dir))))):\n",
    "    img_path = img_dir.joinpath('{:05}.png'.format(idx))\n",
    "    img = cv2.imread(str(img_path))\n",
    "    shape_dst = np.min(img.shape[:2])\n",
    "    oh = (img.shape[0] - shape_dst) // 2\n",
    "    ow = (img.shape[1] - shape_dst) // 2\n",
    "\n",
    "    img = img[oh:oh + shape_dst, ow:ow + shape_dst]\n",
    "    img = cv2.resize(img, (512, 512))\n",
    "    multiplier = get_multiplier(img)\n",
    "    with torch.no_grad():\n",
    "        paf, heatmap = get_outputs(multiplier, img, model, 'rtpose')\n",
    "    r_heatmap = np.array([remove_noise(ht)\n",
    "                          for ht in heatmap.transpose(2, 0, 1)[:-1]]).transpose(1, 2, 0)\n",
    "    heatmap[:, :, :-1] = r_heatmap\n",
    "    param = {'thre1': 0.1, 'thre2': 0.05, 'thre3': 0.5}\n",
    "    #TODO get_pose\n",
    "    label, cord = get_pose(param, heatmap, paf)\n",
    "    index = 13\n",
    "    crop_size = 25\n",
    "    try:\n",
    "        head_cord = cord[index]\n",
    "    except:\n",
    "        head_cord = pose_cords[-1] # if there is not head point in picture, use last frame\n",
    "\n",
    "    pose_cords.append(head_cord)\n",
    "    head = img[int(head_cord[1] - crop_size): int(head_cord[1] + crop_size),\n",
    "           int(head_cord[0] - crop_size): int(head_cord[0] + crop_size), :]\n",
    "    plt.imshow(head)\n",
    "    plt.savefig(str(train_head_dir.joinpath('pose_{}.jpg'.format(idx))))\n",
    "    plt.clf()\n",
    "    cv2.imwrite(str(train_img_dir.joinpath('{:05}.png'.format(idx))), img)\n",
    "    cv2.imwrite(str(train_label_dir.joinpath('{:05}.png'.format(idx))), label)\n",
    "\n",
    "pose_cords = np.array(pose_cords, dtype=np.int)\n",
    "np.save(str((save_dir.joinpath('pose.npy'))), pose_cords)"
   ]
  }
 ],
 "metadata": {
  "kernelspec": {
   "display_name": "mmdt",
   "language": "python",
   "name": "mmdt"
  },
  "language_info": {
   "codemirror_mode": {
    "name": "ipython",
    "version": 3
   },
   "file_extension": ".py",
   "mimetype": "text/x-python",
   "name": "python",
   "nbconvert_exporter": "python",
   "pygments_lexer": "ipython3",
   "version": "3.7.4"
  }
 },
 "nbformat": 4,
 "nbformat_minor": 4
}
